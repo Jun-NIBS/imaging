{
 "cells": [
  {
   "cell_type": "code",
   "execution_count": 11,
   "metadata": {
    "collapsed": false
   },
   "outputs": [],
   "source": [
    "# run hdbscan on raw pixel fluorescence traces\n",
    "\n",
    "# testing on this fly: 180807/fly1/rightlobe/Volumes256x192_80umslab_500usperline\n",
    "import hdbscan\n",
    "import scipy\n",
    "import numpy\n",
    "import time\n",
    "\n",
    "\n",
    "file_name='/Users/mattchurgin/Desktop/dblab/C_imaging/180807/fly1/rightlobe/Volumes256x192_80umslab_500usperline/rawPixelVals_75percentPCskept'\n",
    "rawPixelVals=scipy.io.loadmat(file_name, mdict=None, appendmat=True)\n",
    "\n",
    "rpv=rawPixelVals['unwrappedReduced']"
   ]
  },
  {
   "cell_type": "code",
   "execution_count": 37,
   "metadata": {
    "collapsed": false
   },
   "outputs": [],
   "source": [
    "# remove the NaNs and just set to 0 for hdbscan\n",
    "rpv[numpy.isnan(rpv).any(axis=1)]=0"
   ]
  },
  {
   "cell_type": "code",
   "execution_count": null,
   "metadata": {
    "collapsed": false
   },
   "outputs": [],
   "source": [
    "# run the algorithm\n",
    "time_start = time.clock()\n",
    "\n",
    "clusterer = hdbscan.HDBSCAN(min_cluster_size=10)\n",
    "cluster_labels = clusterer.fit_predict(rpv)\n",
    "\n",
    "time_elapsed = (time.clock() - time_start)\n",
    "print(time_elapsed/60, 'minutes')\n",
    "\n"
   ]
  },
  {
   "cell_type": "code",
   "execution_count": null,
   "metadata": {
    "collapsed": true
   },
   "outputs": [],
   "source": []
  }
 ],
 "metadata": {
  "kernelspec": {
   "display_name": "Python 3",
   "language": "python",
   "name": "python3"
  },
  "language_info": {
   "codemirror_mode": {
    "name": "ipython",
    "version": 3
   },
   "file_extension": ".py",
   "mimetype": "text/x-python",
   "name": "python",
   "nbconvert_exporter": "python",
   "pygments_lexer": "ipython3",
   "version": "3.6.0"
  }
 },
 "nbformat": 4,
 "nbformat_minor": 2
}
